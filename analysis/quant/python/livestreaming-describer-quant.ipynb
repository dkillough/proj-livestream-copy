{
 "cells": [
  {
   "cell_type": "code",
   "execution_count": 44,
   "id": "6ab5cc62",
   "metadata": {},
   "outputs": [],
   "source": [
    "%matplotlib inline\n",
    "import pandas as pd"
   ]
  },
  {
   "cell_type": "code",
   "execution_count": 45,
   "id": "f2852f66",
   "metadata": {},
   "outputs": [
    {
     "data": {
      "text/html": [
       "<div>\n",
       "<style scoped>\n",
       "    .dataframe tbody tr th:only-of-type {\n",
       "        vertical-align: middle;\n",
       "    }\n",
       "\n",
       "    .dataframe tbody tr th {\n",
       "        vertical-align: top;\n",
       "    }\n",
       "\n",
       "    .dataframe thead th {\n",
       "        text-align: right;\n",
       "    }\n",
       "</style>\n",
       "<table border=\"1\" class=\"dataframe\">\n",
       "  <thead>\n",
       "    <tr style=\"text-align: right;\">\n",
       "      <th></th>\n",
       "      <th>SessionID</th>\n",
       "      <th>ParticipantID</th>\n",
       "      <th>Condition</th>\n",
       "      <th>Category</th>\n",
       "      <th>VideoID</th>\n",
       "      <th>VideoDuration</th>\n",
       "      <th>numDescriptions</th>\n",
       "      <th>numWords</th>\n",
       "      <th>DescriptionsPerMin</th>\n",
       "      <th>WordCountsPerMin</th>\n",
       "    </tr>\n",
       "  </thead>\n",
       "  <tbody>\n",
       "    <tr>\n",
       "      <th>0</th>\n",
       "      <td>BOTW-C-A</td>\n",
       "      <td>B3</td>\n",
       "      <td>A</td>\n",
       "      <td>Breath of the Wild</td>\n",
       "      <td>BC</td>\n",
       "      <td>302</td>\n",
       "      <td>51</td>\n",
       "      <td>396</td>\n",
       "      <td>10.13245</td>\n",
       "      <td>78.67550</td>\n",
       "    </tr>\n",
       "    <tr>\n",
       "      <th>1</th>\n",
       "      <td>Chess-C-A</td>\n",
       "      <td>C1</td>\n",
       "      <td>A</td>\n",
       "      <td>Chess</td>\n",
       "      <td>CC</td>\n",
       "      <td>296</td>\n",
       "      <td>18</td>\n",
       "      <td>118</td>\n",
       "      <td>3.64865</td>\n",
       "      <td>23.91892</td>\n",
       "    </tr>\n",
       "    <tr>\n",
       "      <th>2</th>\n",
       "      <td>Chess-B-A</td>\n",
       "      <td>C2</td>\n",
       "      <td>A</td>\n",
       "      <td>Chess</td>\n",
       "      <td>CB</td>\n",
       "      <td>371</td>\n",
       "      <td>42</td>\n",
       "      <td>849</td>\n",
       "      <td>6.79245</td>\n",
       "      <td>137.30458</td>\n",
       "    </tr>\n",
       "    <tr>\n",
       "      <th>3</th>\n",
       "      <td>Chess-A-A</td>\n",
       "      <td>C3</td>\n",
       "      <td>A</td>\n",
       "      <td>Chess</td>\n",
       "      <td>CA</td>\n",
       "      <td>375</td>\n",
       "      <td>12</td>\n",
       "      <td>81</td>\n",
       "      <td>1.92000</td>\n",
       "      <td>12.96000</td>\n",
       "    </tr>\n",
       "    <tr>\n",
       "      <th>4</th>\n",
       "      <td>Art-A-A</td>\n",
       "      <td>D1</td>\n",
       "      <td>A</td>\n",
       "      <td>Digital Art</td>\n",
       "      <td>DA</td>\n",
       "      <td>338</td>\n",
       "      <td>19</td>\n",
       "      <td>128</td>\n",
       "      <td>3.37278</td>\n",
       "      <td>22.72189</td>\n",
       "    </tr>\n",
       "  </tbody>\n",
       "</table>\n",
       "</div>"
      ],
      "text/plain": [
       "   SessionID ParticipantID Condition            Category VideoID   \n",
       "0   BOTW-C-A            B3         A  Breath of the Wild      BC  \\\n",
       "1  Chess-C-A            C1         A               Chess      CC   \n",
       "2  Chess-B-A            C2         A               Chess      CB   \n",
       "3  Chess-A-A            C3         A               Chess      CA   \n",
       "4    Art-A-A            D1         A         Digital Art      DA   \n",
       "\n",
       "   VideoDuration  numDescriptions  numWords  DescriptionsPerMin   \n",
       "0            302               51       396            10.13245  \\\n",
       "1            296               18       118             3.64865   \n",
       "2            371               42       849             6.79245   \n",
       "3            375               12        81             1.92000   \n",
       "4            338               19       128             3.37278   \n",
       "\n",
       "   WordCountsPerMin  \n",
       "0          78.67550  \n",
       "1          23.91892  \n",
       "2         137.30458  \n",
       "3          12.96000  \n",
       "4          22.72189  "
      ]
     },
     "execution_count": 45,
     "metadata": {},
     "output_type": "execute_result"
    }
   ],
   "source": [
    "myfile = './describer_data.csv'\n",
    "data = pd.read_csv(myfile)\n",
    "data.head()"
   ]
  },
  {
   "cell_type": "code",
   "execution_count": 48,
   "id": "1dbb705b",
   "metadata": {},
   "outputs": [
    {
     "name": "stderr",
     "output_type": "stream",
     "text": [
      "/var/folders/lp/hgtgw2zj57dbm_pjkxm82xs40000gn/T/ipykernel_30054/2656314122.py:3: SettingWithCopyWarning: \n",
      "A value is trying to be set on a copy of a slice from a DataFrame.\n",
      "Try using .loc[row_indexer,col_indexer] = value instead\n",
      "\n",
      "See the caveats in the documentation: https://pandas.pydata.org/pandas-docs/stable/user_guide/indexing.html#returning-a-view-versus-a-copy\n",
      "  df['WordCountsPerMin'] = pd.to_numeric(df['WordCountsPerMin'])\n",
      "/var/folders/lp/hgtgw2zj57dbm_pjkxm82xs40000gn/T/ipykernel_30054/2656314122.py:4: SettingWithCopyWarning: \n",
      "A value is trying to be set on a copy of a slice from a DataFrame.\n",
      "Try using .loc[row_indexer,col_indexer] = value instead\n",
      "\n",
      "See the caveats in the documentation: https://pandas.pydata.org/pandas-docs/stable/user_guide/indexing.html#returning-a-view-versus-a-copy\n",
      "  df['DescriptionsPerMin'] = pd.to_numeric(df['DescriptionsPerMin']).plot()\n"
     ]
    },
    {
     "data": {
      "image/png": "[encoded data removed]",
      "text/plain": [
       "<Figure size 640x480 with 6 Axes>"
      ]
     },
     "metadata": {},
     "output_type": "display_data"
    }
   ],
   "source": [
    "# df = data[1:20]\n",
    "# df.hist()\n",
    "df['WordCountsPerMin'] = pd.to_numeric(df['WordCountsPerMin'])\n",
    "df['DescriptionsPerMin'] = pd.to_numeric(df['DescriptionsPerMin']).plot()"
   ]
  },
  {
   "cell_type": "code",
   "execution_count": 49,
   "id": "34367ebe",
   "metadata": {},
   "outputs": [
    {
     "ename": "ValueError",
     "evalue": "endog has evaluated to an array with multiple columns that has shape (54, 3). This occurs when the variable converted to endog is non-numeric (e.g., bool or str).",
     "output_type": "error",
     "traceback": [
      "\u001b[0;31m---------------------------------------------------------------------------\u001b[0m",
      "\u001b[0;31mValueError\u001b[0m                                Traceback (most recent call last)",
      "Cell \u001b[0;32mIn[49], line 6\u001b[0m\n\u001b[1;32m      3\u001b[0m \u001b[39m# from statsmodels.stats.oneway.anova_oneway import anova_oneway\u001b[39;00m\n\u001b[1;32m      4\u001b[0m \u001b[39mfrom\u001b[39;00m \u001b[39mstatsmodels\u001b[39;00m\u001b[39m.\u001b[39;00m\u001b[39mgraphics\u001b[39;00m\u001b[39m.\u001b[39;00m\u001b[39mfactorplots\u001b[39;00m \u001b[39mimport\u001b[39;00m interaction_plot\n\u001b[0;32m----> 6\u001b[0m model \u001b[39m=\u001b[39m ols(\u001b[39m'\u001b[39;49m\u001b[39mCondition ~ C(WordCountsPerMin) + C(DescriptionsPerMin) + C(WordCountsPerMin):C(DescriptionsPerMin)\u001b[39;49m\u001b[39m'\u001b[39;49m, data)\u001b[39m.\u001b[39mfit()\n\u001b[1;32m      7\u001b[0m aov_table \u001b[39m=\u001b[39m anova_lm(data, \u001b[39mtype\u001b[39m\u001b[39m=\u001b[39m\u001b[39m2\u001b[39m)\n\u001b[1;32m      8\u001b[0m aov_table\n",
      "File \u001b[0;32m~/Library/Python/3.9/lib/python/site-packages/statsmodels/base/model.py:206\u001b[0m, in \u001b[0;36mModel.from_formula\u001b[0;34m(cls, formula, data, subset, drop_cols, *args, **kwargs)\u001b[0m\n\u001b[1;32m    203\u001b[0m max_endog \u001b[39m=\u001b[39m \u001b[39mcls\u001b[39m\u001b[39m.\u001b[39m_formula_max_endog\n\u001b[1;32m    204\u001b[0m \u001b[39mif\u001b[39;00m (max_endog \u001b[39mis\u001b[39;00m \u001b[39mnot\u001b[39;00m \u001b[39mNone\u001b[39;00m \u001b[39mand\u001b[39;00m\n\u001b[1;32m    205\u001b[0m         endog\u001b[39m.\u001b[39mndim \u001b[39m>\u001b[39m \u001b[39m1\u001b[39m \u001b[39mand\u001b[39;00m endog\u001b[39m.\u001b[39mshape[\u001b[39m1\u001b[39m] \u001b[39m>\u001b[39m max_endog):\n\u001b[0;32m--> 206\u001b[0m     \u001b[39mraise\u001b[39;00m \u001b[39mValueError\u001b[39;00m(\u001b[39m'\u001b[39m\u001b[39mendog has evaluated to an array with multiple \u001b[39m\u001b[39m'\u001b[39m\n\u001b[1;32m    207\u001b[0m                      \u001b[39m'\u001b[39m\u001b[39mcolumns that has shape \u001b[39m\u001b[39m{0}\u001b[39;00m\u001b[39m. This occurs when \u001b[39m\u001b[39m'\u001b[39m\n\u001b[1;32m    208\u001b[0m                      \u001b[39m'\u001b[39m\u001b[39mthe variable converted to endog is non-numeric\u001b[39m\u001b[39m'\u001b[39m\n\u001b[1;32m    209\u001b[0m                      \u001b[39m'\u001b[39m\u001b[39m (e.g., bool or str).\u001b[39m\u001b[39m'\u001b[39m\u001b[39m.\u001b[39mformat(endog\u001b[39m.\u001b[39mshape))\n\u001b[1;32m    210\u001b[0m \u001b[39mif\u001b[39;00m drop_cols \u001b[39mis\u001b[39;00m \u001b[39mnot\u001b[39;00m \u001b[39mNone\u001b[39;00m \u001b[39mand\u001b[39;00m \u001b[39mlen\u001b[39m(drop_cols) \u001b[39m>\u001b[39m \u001b[39m0\u001b[39m:\n\u001b[1;32m    211\u001b[0m     cols \u001b[39m=\u001b[39m [x \u001b[39mfor\u001b[39;00m x \u001b[39min\u001b[39;00m exog\u001b[39m.\u001b[39mcolumns \u001b[39mif\u001b[39;00m x \u001b[39mnot\u001b[39;00m \u001b[39min\u001b[39;00m drop_cols]\n",
      "\u001b[0;31mValueError\u001b[0m: endog has evaluated to an array with multiple columns that has shape (54, 3). This occurs when the variable converted to endog is non-numeric (e.g., bool or str)."
     ]
    }
   ],
   "source": [
    "from statsmodels.formula.api import ols\n",
    "from statsmodels.stats.anova import anova_lm\n",
    "# from statsmodels.stats.oneway.anova_oneway import anova_oneway\n",
    "from statsmodels.graphics.factorplots import interaction_plot\n",
    "\n",
    "model = ols('Condition ~ C(WordCountsPerMin) + C(DescriptionsPerMin) + C(WordCountsPerMin):C(DescriptionsPerMin)', data).fit()\n",
    "aov_table = anova_lm(data, type=2)\n",
    "aov_table"
   ]
  },
  {
   "cell_type": "code",
   "execution_count": null,
   "id": "dd801811",
   "metadata": {},
   "outputs": [],
   "source": []
  }
 ],
 "metadata": {
  "kernelspec": {
   "display_name": "Python 3 (ipykernel)",
   "language": "python",
   "name": "python3"
  },
  "language_info": {
   "codemirror_mode": {
    "name": "ipython",
    "version": 3
   },
   "file_extension": ".py",
   "mimetype": "text/x-python",
   "name": "python",
   "nbconvert_exporter": "python",
   "pygments_lexer": "ipython3",
   "version": "3.9.6"
  }
 },
 "nbformat": 4,
 "nbformat_minor": 5
}
